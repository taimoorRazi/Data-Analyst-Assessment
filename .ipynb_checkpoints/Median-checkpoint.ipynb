{
 "cells": [
  {
   "cell_type": "code",
   "execution_count": 1,
   "id": "2e045fb8",
   "metadata": {},
   "outputs": [],
   "source": [
    "import pandas as pd\n",
    "\n",
    "# read the imputed dataset\n",
    "df = pd.read_csv('imputed_vaccination_data.csv')"
   ]
  },
  {
   "cell_type": "code",
   "execution_count": 2,
   "id": "394d6873",
   "metadata": {},
   "outputs": [],
   "source": [
    "# calculate the median daily vaccinations for each country\n",
    "med_vaccinations = df.groupby('country')['daily_vaccinations'].median().sort_values(ascending=False)"
   ]
  },
  {
   "cell_type": "code",
   "execution_count": 3,
   "id": "b96639f5",
   "metadata": {},
   "outputs": [
    {
     "name": "stdout",
     "output_type": "stream",
     "text": [
      "country\n",
      "United States    378253.0\n",
      "China            276786.0\n",
      "India            173922.0\n",
      "Name: daily_vaccinations, dtype: float64\n"
     ]
    }
   ],
   "source": [
    "# print the top 3 countries with highest median daily vaccinations\n",
    "print(med_vaccinations.head(3))"
   ]
  }
 ],
 "metadata": {
  "kernelspec": {
   "display_name": "myenv",
   "language": "python",
   "name": "myenv"
  },
  "language_info": {
   "codemirror_mode": {
    "name": "ipython",
    "version": 3
   },
   "file_extension": ".py",
   "mimetype": "text/x-python",
   "name": "python",
   "nbconvert_exporter": "python",
   "pygments_lexer": "ipython3",
   "version": "3.10.5"
  }
 },
 "nbformat": 4,
 "nbformat_minor": 5
}
