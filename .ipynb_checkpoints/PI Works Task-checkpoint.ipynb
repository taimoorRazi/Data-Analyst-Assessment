{
 "cells": [
  {
   "cell_type": "code",
   "execution_count": 1,
   "id": "83ca9553",
   "metadata": {},
   "outputs": [],
   "source": [
    "import pandas as pd\n",
    "\n",
    "# read input file\n",
    "df = pd.read_csv('country_vaccination_stats.csv')"
   ]
  },
  {
   "cell_type": "code",
   "execution_count": 2,
   "id": "dcf9a405",
   "metadata": {},
   "outputs": [
    {
     "data": {
      "text/html": [
       "<div>\n",
       "<style scoped>\n",
       "    .dataframe tbody tr th:only-of-type {\n",
       "        vertical-align: middle;\n",
       "    }\n",
       "\n",
       "    .dataframe tbody tr th {\n",
       "        vertical-align: top;\n",
       "    }\n",
       "\n",
       "    .dataframe thead th {\n",
       "        text-align: right;\n",
       "    }\n",
       "</style>\n",
       "<table border=\"1\" class=\"dataframe\">\n",
       "  <thead>\n",
       "    <tr style=\"text-align: right;\">\n",
       "      <th></th>\n",
       "      <th>country</th>\n",
       "      <th>date</th>\n",
       "      <th>daily_vaccinations</th>\n",
       "      <th>vaccines</th>\n",
       "    </tr>\n",
       "  </thead>\n",
       "  <tbody>\n",
       "    <tr>\n",
       "      <th>0</th>\n",
       "      <td>Argentina</td>\n",
       "      <td>12/29/2020</td>\n",
       "      <td>NaN</td>\n",
       "      <td>Sputnik V</td>\n",
       "    </tr>\n",
       "    <tr>\n",
       "      <th>1</th>\n",
       "      <td>Argentina</td>\n",
       "      <td>12/30/2020</td>\n",
       "      <td>15656.0</td>\n",
       "      <td>Sputnik V</td>\n",
       "    </tr>\n",
       "    <tr>\n",
       "      <th>2</th>\n",
       "      <td>Argentina</td>\n",
       "      <td>12/31/2020</td>\n",
       "      <td>15656.0</td>\n",
       "      <td>Sputnik V</td>\n",
       "    </tr>\n",
       "    <tr>\n",
       "      <th>3</th>\n",
       "      <td>Argentina</td>\n",
       "      <td>1/1/2021</td>\n",
       "      <td>11070.0</td>\n",
       "      <td>Sputnik V</td>\n",
       "    </tr>\n",
       "    <tr>\n",
       "      <th>4</th>\n",
       "      <td>Argentina</td>\n",
       "      <td>1/2/2021</td>\n",
       "      <td>8776.0</td>\n",
       "      <td>Sputnik V</td>\n",
       "    </tr>\n",
       "  </tbody>\n",
       "</table>\n",
       "</div>"
      ],
      "text/plain": [
       "     country        date  daily_vaccinations   vaccines\n",
       "0  Argentina  12/29/2020                 NaN  Sputnik V\n",
       "1  Argentina  12/30/2020             15656.0  Sputnik V\n",
       "2  Argentina  12/31/2020             15656.0  Sputnik V\n",
       "3  Argentina    1/1/2021             11070.0  Sputnik V\n",
       "4  Argentina    1/2/2021              8776.0  Sputnik V"
      ]
     },
     "execution_count": 2,
     "metadata": {},
     "output_type": "execute_result"
    }
   ],
   "source": [
    "df.head()"
   ]
  },
  {
   "cell_type": "code",
   "execution_count": 3,
   "id": "112ab453",
   "metadata": {},
   "outputs": [
    {
     "data": {
      "text/plain": [
       "country                0\n",
       "date                   0\n",
       "daily_vaccinations    60\n",
       "vaccines               0\n",
       "dtype: int64"
      ]
     },
     "execution_count": 3,
     "metadata": {},
     "output_type": "execute_result"
    }
   ],
   "source": [
    "df.isnull().sum()"
   ]
  },
  {
   "cell_type": "code",
   "execution_count": 4,
   "id": "dcd8e3ae",
   "metadata": {},
   "outputs": [],
   "source": [
    "# Group by country and fill null values with the minimum daily vaccination number of relevant countries\n",
    "df['daily_vaccinations'] = df.groupby('country')['daily_vaccinations'].transform(lambda x: x.fillna(x.min()))"
   ]
  },
  {
   "cell_type": "code",
   "execution_count": 5,
   "id": "f8419b03",
   "metadata": {},
   "outputs": [
    {
     "data": {
      "text/plain": [
       "country               0\n",
       "date                  0\n",
       "daily_vaccinations    1\n",
       "vaccines              0\n",
       "dtype: int64"
      ]
     },
     "execution_count": 5,
     "metadata": {},
     "output_type": "execute_result"
    }
   ],
   "source": [
    "df.isnull().sum()"
   ]
  },
  {
   "cell_type": "code",
   "execution_count": 6,
   "id": "91dce74f",
   "metadata": {},
   "outputs": [],
   "source": [
    "# Fill remaining null values with 0\n",
    "df['daily_vaccinations'] = df['daily_vaccinations'].fillna(0)"
   ]
  },
  {
   "cell_type": "code",
   "execution_count": 7,
   "id": "b84fbdd1",
   "metadata": {},
   "outputs": [],
   "source": [
    "# write output file\n",
    "df.to_csv('filled_vaccination_data.csv', index=False)"
   ]
  }
 ],
 "metadata": {
  "kernelspec": {
   "display_name": "myenv",
   "language": "python",
   "name": "myenv"
  },
  "language_info": {
   "codemirror_mode": {
    "name": "ipython",
    "version": 3
   },
   "file_extension": ".py",
   "mimetype": "text/x-python",
   "name": "python",
   "nbconvert_exporter": "python",
   "pygments_lexer": "ipython3",
   "version": "3.10.5"
  }
 },
 "nbformat": 4,
 "nbformat_minor": 5
}
